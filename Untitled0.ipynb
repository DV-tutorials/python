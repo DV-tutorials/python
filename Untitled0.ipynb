{
  "nbformat": 4,
  "nbformat_minor": 0,
  "metadata": {
    "colab": {
      "provenance": [],
      "authorship_tag": "ABX9TyOiYsuWjUTGnliXOXZ6SrFj",
      "include_colab_link": true
    },
    "kernelspec": {
      "name": "python3",
      "display_name": "Python 3"
    },
    "language_info": {
      "name": "python"
    }
  },
  "cells": [
    {
      "cell_type": "markdown",
      "metadata": {
        "id": "view-in-github",
        "colab_type": "text"
      },
      "source": [
        "<a href=\"https://colab.research.google.com/github/DV-tutorials/python/blob/main/Untitled0.ipynb\" target=\"_parent\"><img src=\"https://colab.research.google.com/assets/colab-badge.svg\" alt=\"Open In Colab\"/></a>"
      ]
    },
    {
      "cell_type": "code",
      "execution_count": null,
      "metadata": {
        "id": "uUF5BRnDBXvU"
      },
      "outputs": [],
      "source": [
        "fruits =[]\n",
        "\n",
        "print(fruits)\n",
        "\n",
        "for i in range(5):\n",
        "    user_input = input('enter fruits list : ')\n",
        "    fruits.insert(i, user_input)\n",
        "\n",
        "print(fruits)"
      ]
    },
    {
      "cell_type": "code",
      "source": [
        "for i in range(3):\n",
        "    user_input = input('enter remaining items : ')\n",
        "    fruits.append(user_input)"
      ],
      "metadata": {
        "colab": {
          "base_uri": "https://localhost:8080/"
        },
        "id": "C9l0hzNzB__R",
        "outputId": "96aedc21-429d-4856-e858-7e9dea1413f0"
      },
      "execution_count": 2,
      "outputs": [
        {
          "name": "stdout",
          "output_type": "stream",
          "text": [
            "enter remaining items : dhania\n",
            "enter remaining items : milk\n",
            "enter remaining items : other\n"
          ]
        }
      ]
    },
    {
      "cell_type": "code",
      "source": [
        "fruits"
      ],
      "metadata": {
        "colab": {
          "base_uri": "https://localhost:8080/"
        },
        "id": "iFgEJxXTCYRt",
        "outputId": "403675c8-aa84-4423-8288-9b8a4819e124"
      },
      "execution_count": 3,
      "outputs": [
        {
          "output_type": "execute_result",
          "data": {
            "text/plain": [
              "['apple', 'orange', 'kiwi', 'pineapple', 'melon', 'dhania', 'milk', 'other']"
            ]
          },
          "metadata": {},
          "execution_count": 3
        }
      ]
    },
    {
      "cell_type": "code",
      "source": [
        "newlist =[1,2,3,4]\n",
        "list2 = ['a','b']\n",
        "# list2.append(newlist)"
      ],
      "metadata": {
        "id": "CJ0nxx30Cyx1"
      },
      "execution_count": 7,
      "outputs": []
    },
    {
      "cell_type": "markdown",
      "source": [
        "# extend --> merge two lists"
      ],
      "metadata": {
        "id": "1pU4TnMVDehV"
      }
    },
    {
      "cell_type": "code",
      "source": [
        "list2.extend(newlist)\n",
        "list2\n"
      ],
      "metadata": {
        "colab": {
          "base_uri": "https://localhost:8080/"
        },
        "id": "rX2_mZEZDL6_",
        "outputId": "52b311ad-5489-427c-b863-aaca6c6fe68c"
      },
      "execution_count": 8,
      "outputs": [
        {
          "output_type": "execute_result",
          "data": {
            "text/plain": [
              "['a', 'b', 1, 2, 3, 4]"
            ]
          },
          "metadata": {},
          "execution_count": 8
        }
      ]
    },
    {
      "cell_type": "markdown",
      "source": [
        "user input ->> add list empty (numbers)\n",
        "average -> sum of numbers/total length list\n",
        "output -> average"
      ],
      "metadata": {
        "id": "LQUVase5Drl6"
      }
    },
    {
      "cell_type": "code",
      "source": [
        "sum(newlist)"
      ],
      "metadata": {
        "colab": {
          "base_uri": "https://localhost:8080/"
        },
        "id": "fZ9yDXxxDnv7",
        "outputId": "f9322ed8-2e53-4384-8555-848596ae9fd2"
      },
      "execution_count": 9,
      "outputs": [
        {
          "output_type": "execute_result",
          "data": {
            "text/plain": [
              "10"
            ]
          },
          "metadata": {},
          "execution_count": 9
        }
      ]
    },
    {
      "cell_type": "code",
      "source": [
        "numbers=[]\n",
        "avg = 0\n",
        "for i in range(5):\n",
        "    user_input = int(input('enter a number '))\n",
        "    numbers.append(user_input)\n",
        "    avg = sum(numbers)/len(numbers)\n",
        "print('average',avg)"
      ],
      "metadata": {
        "colab": {
          "base_uri": "https://localhost:8080/"
        },
        "id": "BgUcsA_BEgLq",
        "outputId": "37b0fbcd-18c2-4f67-873c-db53190eb142"
      },
      "execution_count": 11,
      "outputs": [
        {
          "output_type": "stream",
          "name": "stdout",
          "text": [
            "enter a number1\n",
            "enter a number2\n",
            "enter a number3\n",
            "enter a number4\n",
            "enter a number5\n",
            "average 3.0\n"
          ]
        }
      ]
    },
    {
      "cell_type": "markdown",
      "source": [
        "Random module"
      ],
      "metadata": {
        "id": "41_YGEK2HGiJ"
      }
    },
    {
      "cell_type": "code",
      "source": [
        "import random\n",
        "\n",
        "print(random.randint(1,10))"
      ],
      "metadata": {
        "colab": {
          "base_uri": "https://localhost:8080/"
        },
        "id": "mnIfj3KcHEF5",
        "outputId": "28aacd04-2d0d-496b-db68-acf1171c7290"
      },
      "execution_count": 18,
      "outputs": [
        {
          "output_type": "stream",
          "name": "stdout",
          "text": [
            "2\n"
          ]
        }
      ]
    },
    {
      "cell_type": "code",
      "source": [
        "from random import randint\n",
        "randint(2882,4648)"
      ],
      "metadata": {
        "colab": {
          "base_uri": "https://localhost:8080/"
        },
        "id": "6jzeDjXfIiWI",
        "outputId": "c40ed00d-f777-419e-8d31-7755147efc84"
      },
      "execution_count": 24,
      "outputs": [
        {
          "output_type": "execute_result",
          "data": {
            "text/plain": [
              "4555"
            ]
          },
          "metadata": {},
          "execution_count": 24
        }
      ]
    },
    {
      "cell_type": "code",
      "source": [
        "random_numbers = []\n",
        "for i in range(10):\n",
        "  random_numbers.append(randint(1000,2000))\n",
        "\n",
        "print(random_numbers)"
      ],
      "metadata": {
        "colab": {
          "base_uri": "https://localhost:8080/"
        },
        "id": "GoXXPruUIv2s",
        "outputId": "a302c800-53be-42e4-80e2-d68c5f1466b2"
      },
      "execution_count": 25,
      "outputs": [
        {
          "output_type": "stream",
          "name": "stdout",
          "text": [
            "[1283, 1889, 1594, 1837, 1435, 1837, 1642, 1709, 1500, 1919]\n"
          ]
        }
      ]
    }
  ]
}