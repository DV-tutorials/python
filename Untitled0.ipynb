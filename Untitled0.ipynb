{
  "nbformat": 4,
  "nbformat_minor": 0,
  "metadata": {
    "colab": {
      "provenance": [],
      "authorship_tag": "ABX9TyMeFXNf8MHbsGchtd0tDgyM",
      "include_colab_link": true
    },
    "kernelspec": {
      "name": "python3",
      "display_name": "Python 3"
    },
    "language_info": {
      "name": "python"
    }
  },
  "cells": [
    {
      "cell_type": "markdown",
      "metadata": {
        "id": "view-in-github",
        "colab_type": "text"
      },
      "source": [
        "<a href=\"https://colab.research.google.com/github/DV-tutorials/python/blob/main/Untitled0.ipynb\" target=\"_parent\"><img src=\"https://colab.research.google.com/assets/colab-badge.svg\" alt=\"Open In Colab\"/></a>"
      ]
    },
    {
      "cell_type": "code",
      "execution_count": null,
      "metadata": {
        "id": "uUF5BRnDBXvU"
      },
      "outputs": [],
      "source": [
        "fruits =[]\n",
        "\n",
        "print(fruits)\n",
        "\n",
        "for i in range(5):\n",
        "    user_input = input('enter fruits list : ')\n",
        "    fruits.insert(i, user_input)\n",
        "\n",
        "print(fruits)"
      ]
    },
    {
      "cell_type": "code",
      "source": [
        "for i in range(3):\n",
        "    user_input = input('enter remaining items : ')\n",
        "    fruits.append(user_input)"
      ],
      "metadata": {
        "colab": {
          "base_uri": "https://localhost:8080/"
        },
        "id": "C9l0hzNzB__R",
        "outputId": "96aedc21-429d-4856-e858-7e9dea1413f0"
      },
      "execution_count": null,
      "outputs": [
        {
          "name": "stdout",
          "output_type": "stream",
          "text": [
            "enter remaining items : dhania\n",
            "enter remaining items : milk\n",
            "enter remaining items : other\n"
          ]
        }
      ]
    },
    {
      "cell_type": "code",
      "source": [
        "fruits"
      ],
      "metadata": {
        "colab": {
          "base_uri": "https://localhost:8080/"
        },
        "id": "iFgEJxXTCYRt",
        "outputId": "403675c8-aa84-4423-8288-9b8a4819e124"
      },
      "execution_count": null,
      "outputs": [
        {
          "output_type": "execute_result",
          "data": {
            "text/plain": [
              "['apple', 'orange', 'kiwi', 'pineapple', 'melon', 'dhania', 'milk', 'other']"
            ]
          },
          "metadata": {},
          "execution_count": 3
        }
      ]
    },
    {
      "cell_type": "code",
      "source": [
        "newlist =[1,2,3,4]\n",
        "list2 = ['a','b']\n",
        "# list2.append(newlist)"
      ],
      "metadata": {
        "id": "CJ0nxx30Cyx1"
      },
      "execution_count": null,
      "outputs": []
    },
    {
      "cell_type": "markdown",
      "source": [
        "# extend --> merge two lists"
      ],
      "metadata": {
        "id": "1pU4TnMVDehV"
      }
    },
    {
      "cell_type": "code",
      "source": [
        "list2.extend(newlist)\n",
        "list2\n"
      ],
      "metadata": {
        "colab": {
          "base_uri": "https://localhost:8080/"
        },
        "id": "rX2_mZEZDL6_",
        "outputId": "52b311ad-5489-427c-b863-aaca6c6fe68c"
      },
      "execution_count": null,
      "outputs": [
        {
          "output_type": "execute_result",
          "data": {
            "text/plain": [
              "['a', 'b', 1, 2, 3, 4]"
            ]
          },
          "metadata": {},
          "execution_count": 8
        }
      ]
    },
    {
      "cell_type": "markdown",
      "source": [
        "user input ->> add list empty (numbers)\n",
        "average -> sum of numbers/total length list\n",
        "output -> average"
      ],
      "metadata": {
        "id": "LQUVase5Drl6"
      }
    },
    {
      "cell_type": "code",
      "source": [
        "sum(newlist)"
      ],
      "metadata": {
        "colab": {
          "base_uri": "https://localhost:8080/"
        },
        "id": "fZ9yDXxxDnv7",
        "outputId": "f9322ed8-2e53-4384-8555-848596ae9fd2"
      },
      "execution_count": null,
      "outputs": [
        {
          "output_type": "execute_result",
          "data": {
            "text/plain": [
              "10"
            ]
          },
          "metadata": {},
          "execution_count": 9
        }
      ]
    },
    {
      "cell_type": "code",
      "source": [
        "mnumbers=[]\n",
        "avg = 0\n",
        "for i in range(5):\n",
        "    user_input = int(input('enter a number '))\n",
        "    numbers.append(user_input)\n",
        "    avg = sum(numbers)/len(numbers)\n",
        "print('average',avg)"
      ],
      "metadata": {
        "colab": {
          "base_uri": "https://localhost:8080/"
        },
        "id": "BgUcsA_BEgLq",
        "outputId": "37b0fbcd-18c2-4f67-873c-db53190eb142"
      },
      "execution_count": null,
      "outputs": [
        {
          "output_type": "stream",
          "name": "stdout",
          "text": [
            "enter a number1\n",
            "enter a number2\n",
            "enter a number3\n",
            "enter a number4\n",
            "enter a number5\n",
            "average 3.0\n"
          ]
        }
      ]
    },
    {
      "cell_type": "markdown",
      "source": [
        "Random module"
      ],
      "metadata": {
        "id": "41_YGEK2HGiJ"
      }
    },
    {
      "cell_type": "code",
      "source": [
        "import random\n",
        "\n",
        "print(random.randint(1,10))"
      ],
      "metadata": {
        "colab": {
          "base_uri": "https://localhost:8080/"
        },
        "id": "mnIfj3KcHEF5",
        "outputId": "28aacd04-2d0d-496b-db68-acf1171c7290"
      },
      "execution_count": null,
      "outputs": [
        {
          "output_type": "stream",
          "name": "stdout",
          "text": [
            "2\n"
          ]
        }
      ]
    },
    {
      "cell_type": "code",
      "source": [
        "from random import randint\n",
        "randint(2882,4648)"
      ],
      "metadata": {
        "colab": {
          "base_uri": "https://localhost:8080/"
        },
        "id": "6jzeDjXfIiWI",
        "outputId": "b6f0bf27-c9c8-4039-e381-969d7d4a495d"
      },
      "execution_count": 1,
      "outputs": [
        {
          "output_type": "execute_result",
          "data": {
            "text/plain": [
              "4465"
            ]
          },
          "metadata": {},
          "execution_count": 1
        }
      ]
    },
    {
      "cell_type": "code",
      "source": [
        "random_numbers = []\n",
        "for i in range(10):\n",
        "  random_numbers.append(randint(1000,2000))\n",
        "\n",
        "print(random_numbers)\n",
        "even =[]\n",
        "odd = []\n",
        "for num in random_numbers:\n",
        "  if num %2==0:\n",
        "    even.append(num)\n",
        "  else:\n",
        "    odd.append(num)\n",
        "print(even)\n",
        "print(odd)\n"
      ],
      "metadata": {
        "id": "GoXXPruUIv2s"
      },
      "execution_count": null,
      "outputs": []
    },
    {
      "cell_type": "markdown",
      "source": [
        "POP method --> remove last element"
      ],
      "metadata": {
        "id": "DL-uJfLub9m3"
      }
    },
    {
      "cell_type": "code",
      "source": [
        "random_numbers.pop()\n",
        "random_numbers"
      ],
      "metadata": {
        "colab": {
          "base_uri": "https://localhost:8080/"
        },
        "id": "u12Z_6FybuSV",
        "outputId": "25e72efa-4127-4fef-ae43-c7927ae0aa30"
      },
      "execution_count": 10,
      "outputs": [
        {
          "output_type": "execute_result",
          "data": {
            "text/plain": [
              "[1168, 1713, 1751, 1416, 1496, 1604, 1836]"
            ]
          },
          "metadata": {},
          "execution_count": 10
        }
      ]
    },
    {
      "cell_type": "code",
      "source": [
        "fruits = ['apple','banana','kiwi','lichi']\n",
        "# fruits.pop(2)\n",
        "# fruits\n",
        "fruits.remove('apple')\n",
        "fruits"
      ],
      "metadata": {
        "colab": {
          "base_uri": "https://localhost:8080/"
        },
        "id": "TDcJrjNEgAqD",
        "outputId": "f9bf5252-f62d-4b6f-a5c4-a17a063bc9c4"
      },
      "execution_count": 24,
      "outputs": [
        {
          "output_type": "execute_result",
          "data": {
            "text/plain": [
              "['banana', 'kiwi', 'lichi']"
            ]
          },
          "metadata": {},
          "execution_count": 24
        }
      ]
    },
    {
      "cell_type": "markdown",
      "source": [
        "del keyword "
      ],
      "metadata": {
        "id": "U3Xf4SUagi_k"
      }
    },
    {
      "cell_type": "code",
      "source": [
        "numbers =[1,2,3,4,5]\n",
        "del numbers\n",
        "\n"
      ],
      "metadata": {
        "id": "gH8CLx7uguCU"
      },
      "execution_count": 19,
      "outputs": []
    },
    {
      "cell_type": "markdown",
      "source": [
        "clear --> to clear a sequence"
      ],
      "metadata": {
        "id": "JIjEhYH2hHjU"
      }
    },
    {
      "cell_type": "code",
      "source": [
        "numbers = [1,2,3,4,5]\n",
        "numbers.clear()\n",
        "numbers\n"
      ],
      "metadata": {
        "colab": {
          "base_uri": "https://localhost:8080/"
        },
        "id": "aTkdQOjFg-g2",
        "outputId": "182d81ae-0a1e-4760-ad75-db48abcbb54e"
      },
      "execution_count": 21,
      "outputs": [
        {
          "output_type": "execute_result",
          "data": {
            "text/plain": [
              "[]"
            ]
          },
          "metadata": {},
          "execution_count": 21
        }
      ]
    },
    {
      "cell_type": "code",
      "source": [
        "v = 'hello'\n",
        "if 'hh' in v:\n",
        "  print('found')\n",
        "\n",
        "\n"
      ],
      "metadata": {
        "id": "gNAcoCoXht-U"
      },
      "execution_count": 23,
      "outputs": []
    },
    {
      "cell_type": "markdown",
      "source": [
        "take names from user and add to list and remove a name from list given by user"
      ],
      "metadata": {
        "id": "jkOQbXIYiZd9"
      }
    },
    {
      "cell_type": "code",
      "source": [
        "names =[]\n",
        "for i in range(5):\n",
        "  name = input('enter your name: ')\n",
        "  if name not in names:\n",
        "    names.append(name)\n",
        "\n",
        "print(names)\n",
        "\n",
        "# delete the name\n",
        "del_name = input('Enter the name to remove: ')\n",
        "\n",
        "if del_name in names:\n",
        "  names.remove(del_name)\n",
        "else:\n",
        "  print('Name not found in list')\n",
        "\n",
        "print(names)"
      ],
      "metadata": {
        "colab": {
          "base_uri": "https://localhost:8080/"
        },
        "id": "F3lica0rihzc",
        "outputId": "f791a538-099d-4e97-b93d-be0ec28ba42d"
      },
      "execution_count": 27,
      "outputs": [
        {
          "output_type": "stream",
          "name": "stdout",
          "text": [
            "enter your name: akash\n",
            "enter your name: amit\n",
            "enter your name: rahul\n",
            "enter your name: rohit\n",
            "enter your name: akash\n",
            "['akash', 'amit', 'rahul', 'rohit']\n",
            "Enter the name to remove: rohit\n",
            "['akash', 'amit', 'rahul']\n"
          ]
        }
      ]
    },
    {
      "cell_type": "markdown",
      "source": [
        "Sort- sort the sequence"
      ],
      "metadata": {
        "id": "DHUGX3xjlEmu"
      }
    },
    {
      "cell_type": "code",
      "source": [
        "numbers = [2,3,4,1,33,4,45,3,0]\n",
        "numbers\n",
        "numbers.sort(reverse=False)\n",
        "numbers.sort(reverse=True)\n",
        "\n",
        "numbers"
      ],
      "metadata": {
        "colab": {
          "base_uri": "https://localhost:8080/"
        },
        "id": "JYiBP0lulECn",
        "outputId": "98406728-78ee-4571-d69c-06093cfd7d38"
      },
      "execution_count": 33,
      "outputs": [
        {
          "output_type": "execute_result",
          "data": {
            "text/plain": [
              "[0, 1, 2, 3, 3, 4, 4, 33, 45]"
            ]
          },
          "metadata": {},
          "execution_count": 33
        }
      ]
    }
  ]
}